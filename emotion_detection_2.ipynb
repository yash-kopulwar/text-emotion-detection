{
 "cells": [
  {
   "cell_type": "code",
   "execution_count": 1,
   "id": "654dbb3b",
   "metadata": {},
   "outputs": [],
   "source": [
    "import numpy as np\n",
    "import pandas as pd\n",
    "from tqdm import tqdm\n",
    "import matplotlib.pyplot as plt\n",
    "\n",
    "import tensorflow as tf"
   ]
  },
  {
   "cell_type": "code",
   "execution_count": 2,
   "id": "bb72e141",
   "metadata": {},
   "outputs": [],
   "source": [
    "from tensorflow.keras.preprocessing.text import Tokenizer\n",
    "from tensorflow.keras.preprocessing.sequence import pad_sequences\n",
    "\n",
    "from tensorflow.keras.models import Sequential\n",
    "from tensorflow.keras.layers import Embedding, Dense, Flatten, LSTM, Conv1D, MaxPooling1D, SpatialDropout1D, Dropout, Activation\n",
    "from tensorflow.keras.optimizers import Adam"
   ]
  },
  {
   "cell_type": "code",
   "execution_count": 3,
   "id": "69232a3c",
   "metadata": {},
   "outputs": [],
   "source": [
    "from text_cleaning import text_cleaning"
   ]
  },
  {
   "cell_type": "markdown",
   "id": "e6a31722",
   "metadata": {},
   "source": [
    "# Cleaning of train data"
   ]
  },
  {
   "cell_type": "code",
   "execution_count": 4,
   "id": "59e85fbc",
   "metadata": {},
   "outputs": [
    {
     "data": {
      "text/html": [
       "<div>\n",
       "<style scoped>\n",
       "    .dataframe tbody tr th:only-of-type {\n",
       "        vertical-align: middle;\n",
       "    }\n",
       "\n",
       "    .dataframe tbody tr th {\n",
       "        vertical-align: top;\n",
       "    }\n",
       "\n",
       "    .dataframe thead th {\n",
       "        text-align: right;\n",
       "    }\n",
       "</style>\n",
       "<table border=\"1\" class=\"dataframe\">\n",
       "  <thead>\n",
       "    <tr style=\"text-align: right;\">\n",
       "      <th></th>\n",
       "      <th>text</th>\n",
       "      <th>label</th>\n",
       "    </tr>\n",
       "  </thead>\n",
       "  <tbody>\n",
       "    <tr>\n",
       "      <th>0</th>\n",
       "      <td>i didnt feel humiliated</td>\n",
       "      <td>sadness</td>\n",
       "    </tr>\n",
       "    <tr>\n",
       "      <th>1</th>\n",
       "      <td>i can go from feeling so hopeless to so damned...</td>\n",
       "      <td>sadness</td>\n",
       "    </tr>\n",
       "    <tr>\n",
       "      <th>2</th>\n",
       "      <td>im grabbing a minute to post i feel greedy wrong</td>\n",
       "      <td>anger</td>\n",
       "    </tr>\n",
       "    <tr>\n",
       "      <th>3</th>\n",
       "      <td>i am ever feeling nostalgic about the fireplac...</td>\n",
       "      <td>love</td>\n",
       "    </tr>\n",
       "    <tr>\n",
       "      <th>4</th>\n",
       "      <td>i am feeling grouchy</td>\n",
       "      <td>anger</td>\n",
       "    </tr>\n",
       "    <tr>\n",
       "      <th>...</th>\n",
       "      <td>...</td>\n",
       "      <td>...</td>\n",
       "    </tr>\n",
       "    <tr>\n",
       "      <th>15995</th>\n",
       "      <td>i just had a very brief time in the beanbag an...</td>\n",
       "      <td>sadness</td>\n",
       "    </tr>\n",
       "    <tr>\n",
       "      <th>15996</th>\n",
       "      <td>i am now turning and i feel pathetic that i am...</td>\n",
       "      <td>sadness</td>\n",
       "    </tr>\n",
       "    <tr>\n",
       "      <th>15997</th>\n",
       "      <td>i feel strong and good overall</td>\n",
       "      <td>joy</td>\n",
       "    </tr>\n",
       "    <tr>\n",
       "      <th>15998</th>\n",
       "      <td>i feel like this was such a rude comment and i...</td>\n",
       "      <td>anger</td>\n",
       "    </tr>\n",
       "    <tr>\n",
       "      <th>15999</th>\n",
       "      <td>i know a lot but i feel so stupid because i ca...</td>\n",
       "      <td>sadness</td>\n",
       "    </tr>\n",
       "  </tbody>\n",
       "</table>\n",
       "<p>16000 rows × 2 columns</p>\n",
       "</div>"
      ],
      "text/plain": [
       "                                                    text    label\n",
       "0                                i didnt feel humiliated  sadness\n",
       "1      i can go from feeling so hopeless to so damned...  sadness\n",
       "2       im grabbing a minute to post i feel greedy wrong    anger\n",
       "3      i am ever feeling nostalgic about the fireplac...     love\n",
       "4                                   i am feeling grouchy    anger\n",
       "...                                                  ...      ...\n",
       "15995  i just had a very brief time in the beanbag an...  sadness\n",
       "15996  i am now turning and i feel pathetic that i am...  sadness\n",
       "15997                     i feel strong and good overall      joy\n",
       "15998  i feel like this was such a rude comment and i...    anger\n",
       "15999  i know a lot but i feel so stupid because i ca...  sadness\n",
       "\n",
       "[16000 rows x 2 columns]"
      ]
     },
     "execution_count": 4,
     "metadata": {},
     "output_type": "execute_result"
    }
   ],
   "source": [
    "data = pd.read_csv('emotion_detection_text_dataset/train.txt', delimiter=';', header=None, names=['text', 'label'])\n",
    "data"
   ]
  },
  {
   "cell_type": "code",
   "execution_count": 5,
   "id": "7ee8648f",
   "metadata": {},
   "outputs": [
    {
     "name": "stdout",
     "output_type": "stream",
     "text": [
      "number of duplicate values removed:  31\n"
     ]
    }
   ],
   "source": [
    "# removing duplicate values\n",
    "\n",
    "a = len(data)\n",
    "data = data.drop_duplicates(subset=['text']).reset_index(drop=True)\n",
    "b = len(data)\n",
    "print('number of duplicate values removed: ', a-b)"
   ]
  },
  {
   "cell_type": "code",
   "execution_count": 6,
   "id": "362ce882",
   "metadata": {},
   "outputs": [
    {
     "name": "stdout",
     "output_type": "stream",
     "text": [
      "number of rows with NaN values removed:  0\n"
     ]
    }
   ],
   "source": [
    "# removing rows with nan values\n",
    "\n",
    "a = len(data)\n",
    "data = data.dropna()\n",
    "data = data.reset_index(drop=True)\n",
    "b = len(data)\n",
    "print('number of rows with NaN values removed: ', a-b)"
   ]
  },
  {
   "cell_type": "code",
   "execution_count": 7,
   "id": "56c07db0",
   "metadata": {},
   "outputs": [
    {
     "data": {
      "text/html": [
       "<div>\n",
       "<style scoped>\n",
       "    .dataframe tbody tr th:only-of-type {\n",
       "        vertical-align: middle;\n",
       "    }\n",
       "\n",
       "    .dataframe tbody tr th {\n",
       "        vertical-align: top;\n",
       "    }\n",
       "\n",
       "    .dataframe thead th {\n",
       "        text-align: right;\n",
       "    }\n",
       "</style>\n",
       "<table border=\"1\" class=\"dataframe\">\n",
       "  <thead>\n",
       "    <tr style=\"text-align: right;\">\n",
       "      <th></th>\n",
       "      <th>text</th>\n",
       "      <th>label</th>\n",
       "    </tr>\n",
       "  </thead>\n",
       "  <tbody>\n",
       "    <tr>\n",
       "      <th>0</th>\n",
       "      <td>i more important than going fun ipad strategy ...</td>\n",
       "      <td>sadness</td>\n",
       "    </tr>\n",
       "    <tr>\n",
       "      <th>1</th>\n",
       "      <td>i feel virtuous eating them not as some sort o...</td>\n",
       "      <td>joy</td>\n",
       "    </tr>\n",
       "    <tr>\n",
       "      <th>2</th>\n",
       "      <td>i am feeling a lil bit gloomy</td>\n",
       "      <td>sadness</td>\n",
       "    </tr>\n",
       "    <tr>\n",
       "      <th>3</th>\n",
       "      <td>i wave remember how many people love you and f...</td>\n",
       "      <td>joy</td>\n",
       "    </tr>\n",
       "    <tr>\n",
       "      <th>4</th>\n",
       "      <td>i feel so blessed and beyond thankful for the ...</td>\n",
       "      <td>joy</td>\n",
       "    </tr>\n",
       "    <tr>\n",
       "      <th>...</th>\n",
       "      <td>...</td>\n",
       "      <td>...</td>\n",
       "    </tr>\n",
       "    <tr>\n",
       "      <th>15964</th>\n",
       "      <td>i have realized from this past week is that it...</td>\n",
       "      <td>sadness</td>\n",
       "    </tr>\n",
       "    <tr>\n",
       "      <th>15965</th>\n",
       "      <td>i just feel cold and drained all the time im e...</td>\n",
       "      <td>anger</td>\n",
       "    </tr>\n",
       "    <tr>\n",
       "      <th>15966</th>\n",
       "      <td>im supposed to feel compassionate towards that...</td>\n",
       "      <td>love</td>\n",
       "    </tr>\n",
       "    <tr>\n",
       "      <th>15967</th>\n",
       "      <td>i write when i m feeling low</td>\n",
       "      <td>sadness</td>\n",
       "    </tr>\n",
       "    <tr>\n",
       "      <th>15968</th>\n",
       "      <td>i feel petty moaning about it but its annoying...</td>\n",
       "      <td>anger</td>\n",
       "    </tr>\n",
       "  </tbody>\n",
       "</table>\n",
       "<p>15969 rows × 2 columns</p>\n",
       "</div>"
      ],
      "text/plain": [
       "                                                    text    label\n",
       "0      i more important than going fun ipad strategy ...  sadness\n",
       "1      i feel virtuous eating them not as some sort o...      joy\n",
       "2                          i am feeling a lil bit gloomy  sadness\n",
       "3      i wave remember how many people love you and f...      joy\n",
       "4      i feel so blessed and beyond thankful for the ...      joy\n",
       "...                                                  ...      ...\n",
       "15964  i have realized from this past week is that it...  sadness\n",
       "15965  i just feel cold and drained all the time im e...    anger\n",
       "15966  im supposed to feel compassionate towards that...     love\n",
       "15967                       i write when i m feeling low  sadness\n",
       "15968  i feel petty moaning about it but its annoying...    anger\n",
       "\n",
       "[15969 rows x 2 columns]"
      ]
     },
     "execution_count": 7,
     "metadata": {},
     "output_type": "execute_result"
    }
   ],
   "source": [
    "# shuffling the dataset\n",
    "\n",
    "data = data.sample(frac=1, random_state=123).reset_index(drop=True)   \n",
    "data"
   ]
  },
  {
   "cell_type": "code",
   "execution_count": 8,
   "id": "8d37a4a8",
   "metadata": {
    "scrolled": true
   },
   "outputs": [
    {
     "data": {
      "text/plain": [
       "6"
      ]
     },
     "execution_count": 8,
     "metadata": {},
     "output_type": "execute_result"
    }
   ],
   "source": [
    "data.label.nunique()"
   ]
  },
  {
   "cell_type": "code",
   "execution_count": 9,
   "id": "49c4af18",
   "metadata": {
    "scrolled": true
   },
   "outputs": [
    {
     "data": {
      "text/plain": [
       "joy         5350\n",
       "sadness     4664\n",
       "anger       2155\n",
       "fear        1933\n",
       "love        1299\n",
       "surprise     568\n",
       "Name: label, dtype: int64"
      ]
     },
     "execution_count": 9,
     "metadata": {},
     "output_type": "execute_result"
    }
   ],
   "source": [
    "data.label.value_counts()"
   ]
  },
  {
   "cell_type": "code",
   "execution_count": 10,
   "id": "7fd4f0f6",
   "metadata": {},
   "outputs": [],
   "source": [
    "'''\n",
    "clean_train_data = data.copy()\n",
    "\n",
    "for i in tqdm(range(len(data))):\n",
    "    clean_train_data.loc[i, 'text'] = str(text_cleaning(data.loc[i, 'text']))\n",
    "    \n",
    "clean_train_data.to_csv('emotion_detection_text_dataset/clean_train_data.csv', index=False)\n",
    "    '''\n",
    "\n",
    "clean_train_data = pd.read_csv('emotion_detection_text_dataset/clean_train_data.csv')"
   ]
  },
  {
   "cell_type": "code",
   "execution_count": 11,
   "id": "888409cf",
   "metadata": {
    "scrolled": true
   },
   "outputs": [
    {
     "data": {
      "text/html": [
       "<div>\n",
       "<style scoped>\n",
       "    .dataframe tbody tr th:only-of-type {\n",
       "        vertical-align: middle;\n",
       "    }\n",
       "\n",
       "    .dataframe tbody tr th {\n",
       "        vertical-align: top;\n",
       "    }\n",
       "\n",
       "    .dataframe thead th {\n",
       "        text-align: right;\n",
       "    }\n",
       "</style>\n",
       "<table border=\"1\" class=\"dataframe\">\n",
       "  <thead>\n",
       "    <tr style=\"text-align: right;\">\n",
       "      <th></th>\n",
       "      <th>text</th>\n",
       "      <th>label</th>\n",
       "    </tr>\n",
       "  </thead>\n",
       "  <tbody>\n",
       "    <tr>\n",
       "      <th>15964</th>\n",
       "      <td>realized past week ok feel heartbroken</td>\n",
       "      <td>sadness</td>\n",
       "    </tr>\n",
       "    <tr>\n",
       "      <th>15965</th>\n",
       "      <td>feel cold drained time im either hungry tired ...</td>\n",
       "      <td>anger</td>\n",
       "    </tr>\n",
       "    <tr>\n",
       "      <th>15966</th>\n",
       "      <td>im supposed feel compassionate towards little ...</td>\n",
       "      <td>love</td>\n",
       "    </tr>\n",
       "    <tr>\n",
       "      <th>15967</th>\n",
       "      <td>write feeling low</td>\n",
       "      <td>sadness</td>\n",
       "    </tr>\n",
       "    <tr>\n",
       "      <th>15968</th>\n",
       "      <td>feel petty moaning annoying im keeping stuff b...</td>\n",
       "      <td>anger</td>\n",
       "    </tr>\n",
       "  </tbody>\n",
       "</table>\n",
       "</div>"
      ],
      "text/plain": [
       "                                                    text    label\n",
       "15964             realized past week ok feel heartbroken  sadness\n",
       "15965  feel cold drained time im either hungry tired ...    anger\n",
       "15966  im supposed feel compassionate towards little ...     love\n",
       "15967                                  write feeling low  sadness\n",
       "15968  feel petty moaning annoying im keeping stuff b...    anger"
      ]
     },
     "execution_count": 11,
     "metadata": {},
     "output_type": "execute_result"
    }
   ],
   "source": [
    "clean_train_data.tail()"
   ]
  },
  {
   "cell_type": "markdown",
   "id": "224b2968",
   "metadata": {},
   "source": [
    "# Cleaning of val data"
   ]
  },
  {
   "cell_type": "code",
   "execution_count": 12,
   "id": "00d9c958",
   "metadata": {},
   "outputs": [
    {
     "data": {
      "text/html": [
       "<div>\n",
       "<style scoped>\n",
       "    .dataframe tbody tr th:only-of-type {\n",
       "        vertical-align: middle;\n",
       "    }\n",
       "\n",
       "    .dataframe tbody tr th {\n",
       "        vertical-align: top;\n",
       "    }\n",
       "\n",
       "    .dataframe thead th {\n",
       "        text-align: right;\n",
       "    }\n",
       "</style>\n",
       "<table border=\"1\" class=\"dataframe\">\n",
       "  <thead>\n",
       "    <tr style=\"text-align: right;\">\n",
       "      <th></th>\n",
       "      <th>text</th>\n",
       "      <th>label</th>\n",
       "    </tr>\n",
       "  </thead>\n",
       "  <tbody>\n",
       "    <tr>\n",
       "      <th>1995</th>\n",
       "      <td>im having ssa examination tomorrow in the morn...</td>\n",
       "      <td>sadness</td>\n",
       "    </tr>\n",
       "    <tr>\n",
       "      <th>1996</th>\n",
       "      <td>i constantly worry about their fight against n...</td>\n",
       "      <td>joy</td>\n",
       "    </tr>\n",
       "    <tr>\n",
       "      <th>1997</th>\n",
       "      <td>i feel its important to share this info for th...</td>\n",
       "      <td>joy</td>\n",
       "    </tr>\n",
       "    <tr>\n",
       "      <th>1998</th>\n",
       "      <td>i truly feel that if you are passionate enough...</td>\n",
       "      <td>joy</td>\n",
       "    </tr>\n",
       "    <tr>\n",
       "      <th>1999</th>\n",
       "      <td>i feel like i just wanna buy any cute make up ...</td>\n",
       "      <td>joy</td>\n",
       "    </tr>\n",
       "  </tbody>\n",
       "</table>\n",
       "</div>"
      ],
      "text/plain": [
       "                                                   text    label\n",
       "1995  im having ssa examination tomorrow in the morn...  sadness\n",
       "1996  i constantly worry about their fight against n...      joy\n",
       "1997  i feel its important to share this info for th...      joy\n",
       "1998  i truly feel that if you are passionate enough...      joy\n",
       "1999  i feel like i just wanna buy any cute make up ...      joy"
      ]
     },
     "execution_count": 12,
     "metadata": {},
     "output_type": "execute_result"
    }
   ],
   "source": [
    "data = pd.read_csv('emotion_detection_text_dataset/val.txt', delimiter=';', header=None, names=['text', 'label'])\n",
    "data.tail()"
   ]
  },
  {
   "cell_type": "code",
   "execution_count": 13,
   "id": "2d0f9062",
   "metadata": {},
   "outputs": [
    {
     "name": "stdout",
     "output_type": "stream",
     "text": [
      "number of duplicate values removed:  2\n"
     ]
    }
   ],
   "source": [
    "# removing duplicate values\n",
    "\n",
    "a = len(data)\n",
    "data = data.drop_duplicates(subset=['text']).reset_index(drop=True)\n",
    "b = len(data)\n",
    "print('number of duplicate values removed: ', a-b)"
   ]
  },
  {
   "cell_type": "code",
   "execution_count": 14,
   "id": "45cd64e8",
   "metadata": {},
   "outputs": [
    {
     "name": "stdout",
     "output_type": "stream",
     "text": [
      "number of rows with NaN values removed:  0\n"
     ]
    }
   ],
   "source": [
    "# removing rows with nan values\n",
    "\n",
    "a = len(data)\n",
    "data = data.dropna()\n",
    "data = data.reset_index(drop=True)\n",
    "b = len(data)\n",
    "print('number of rows with NaN values removed: ', a-b)"
   ]
  },
  {
   "cell_type": "code",
   "execution_count": 15,
   "id": "8d927beb",
   "metadata": {},
   "outputs": [
    {
     "data": {
      "text/html": [
       "<div>\n",
       "<style scoped>\n",
       "    .dataframe tbody tr th:only-of-type {\n",
       "        vertical-align: middle;\n",
       "    }\n",
       "\n",
       "    .dataframe tbody tr th {\n",
       "        vertical-align: top;\n",
       "    }\n",
       "\n",
       "    .dataframe thead th {\n",
       "        text-align: right;\n",
       "    }\n",
       "</style>\n",
       "<table border=\"1\" class=\"dataframe\">\n",
       "  <thead>\n",
       "    <tr style=\"text-align: right;\">\n",
       "      <th></th>\n",
       "      <th>text</th>\n",
       "      <th>label</th>\n",
       "    </tr>\n",
       "  </thead>\n",
       "  <tbody>\n",
       "    <tr>\n",
       "      <th>1993</th>\n",
       "      <td>i still feel extremely helpless</td>\n",
       "      <td>fear</td>\n",
       "    </tr>\n",
       "    <tr>\n",
       "      <th>1994</th>\n",
       "      <td>i don t feel disgusted with it by then it s sa...</td>\n",
       "      <td>anger</td>\n",
       "    </tr>\n",
       "    <tr>\n",
       "      <th>1995</th>\n",
       "      <td>i now know how bad it feels like to have someo...</td>\n",
       "      <td>sadness</td>\n",
       "    </tr>\n",
       "    <tr>\n",
       "      <th>1996</th>\n",
       "      <td>i feel so dumb about it</td>\n",
       "      <td>sadness</td>\n",
       "    </tr>\n",
       "    <tr>\n",
       "      <th>1997</th>\n",
       "      <td>i am awake again early enough to see the dark ...</td>\n",
       "      <td>joy</td>\n",
       "    </tr>\n",
       "  </tbody>\n",
       "</table>\n",
       "</div>"
      ],
      "text/plain": [
       "                                                   text    label\n",
       "1993                    i still feel extremely helpless     fear\n",
       "1994  i don t feel disgusted with it by then it s sa...    anger\n",
       "1995  i now know how bad it feels like to have someo...  sadness\n",
       "1996                            i feel so dumb about it  sadness\n",
       "1997  i am awake again early enough to see the dark ...      joy"
      ]
     },
     "execution_count": 15,
     "metadata": {},
     "output_type": "execute_result"
    }
   ],
   "source": [
    "# shuffling the dataset\n",
    "\n",
    "data = data.sample(frac=1, random_state=123).reset_index(drop=True)   \n",
    "data.tail()"
   ]
  },
  {
   "cell_type": "code",
   "execution_count": 16,
   "id": "0a02cecd",
   "metadata": {
    "scrolled": true
   },
   "outputs": [
    {
     "data": {
      "text/plain": [
       "6"
      ]
     },
     "execution_count": 16,
     "metadata": {},
     "output_type": "execute_result"
    }
   ],
   "source": [
    "data.label.nunique()"
   ]
  },
  {
   "cell_type": "code",
   "execution_count": 17,
   "id": "7ed9141a",
   "metadata": {
    "scrolled": true
   },
   "outputs": [
    {
     "data": {
      "text/plain": [
       "joy         703\n",
       "sadness     550\n",
       "anger       274\n",
       "fear        212\n",
       "love        178\n",
       "surprise     81\n",
       "Name: label, dtype: int64"
      ]
     },
     "execution_count": 17,
     "metadata": {},
     "output_type": "execute_result"
    }
   ],
   "source": [
    "data.label.value_counts()"
   ]
  },
  {
   "cell_type": "code",
   "execution_count": 18,
   "id": "ab9107a4",
   "metadata": {},
   "outputs": [],
   "source": [
    "'''\n",
    "clean_val_data = data.copy()\n",
    "\n",
    "for i in tqdm(range(len(data))):\n",
    "    clean_val_data.loc[i, 'text'] = str(text_cleaning(data.loc[i, 'text']))\n",
    "    \n",
    "clean_val_data.to_csv('emotion_detection_text_dataset/clean_val_data.csv', index=False)\n",
    "    '''\n",
    "\n",
    "clean_val_data = pd.read_csv('emotion_detection_text_dataset/clean_val_data.csv')"
   ]
  },
  {
   "cell_type": "code",
   "execution_count": 19,
   "id": "8d6fa02f",
   "metadata": {
    "scrolled": true
   },
   "outputs": [
    {
     "data": {
      "text/html": [
       "<div>\n",
       "<style scoped>\n",
       "    .dataframe tbody tr th:only-of-type {\n",
       "        vertical-align: middle;\n",
       "    }\n",
       "\n",
       "    .dataframe tbody tr th {\n",
       "        vertical-align: top;\n",
       "    }\n",
       "\n",
       "    .dataframe thead th {\n",
       "        text-align: right;\n",
       "    }\n",
       "</style>\n",
       "<table border=\"1\" class=\"dataframe\">\n",
       "  <thead>\n",
       "    <tr style=\"text-align: right;\">\n",
       "      <th></th>\n",
       "      <th>text</th>\n",
       "      <th>label</th>\n",
       "    </tr>\n",
       "  </thead>\n",
       "  <tbody>\n",
       "    <tr>\n",
       "      <th>1993</th>\n",
       "      <td>always want guests know much appreciate coming...</td>\n",
       "      <td>joy</td>\n",
       "    </tr>\n",
       "    <tr>\n",
       "      <th>1994</th>\n",
       "      <td>really feeling appreciative connected nature</td>\n",
       "      <td>joy</td>\n",
       "    </tr>\n",
       "    <tr>\n",
       "      <th>1995</th>\n",
       "      <td>feel though talking month acceptable please pr...</td>\n",
       "      <td>joy</td>\n",
       "    </tr>\n",
       "    <tr>\n",
       "      <th>1996</th>\n",
       "      <td>wanted press charges people street guess didnt...</td>\n",
       "      <td>anger</td>\n",
       "    </tr>\n",
       "    <tr>\n",
       "      <th>1997</th>\n",
       "      <td>feel like im loyal boyfriend even though acted...</td>\n",
       "      <td>love</td>\n",
       "    </tr>\n",
       "  </tbody>\n",
       "</table>\n",
       "</div>"
      ],
      "text/plain": [
       "                                                   text  label\n",
       "1993  always want guests know much appreciate coming...    joy\n",
       "1994       really feeling appreciative connected nature    joy\n",
       "1995  feel though talking month acceptable please pr...    joy\n",
       "1996  wanted press charges people street guess didnt...  anger\n",
       "1997  feel like im loyal boyfriend even though acted...   love"
      ]
     },
     "execution_count": 19,
     "metadata": {},
     "output_type": "execute_result"
    }
   ],
   "source": [
    "clean_val_data.tail()"
   ]
  },
  {
   "cell_type": "markdown",
   "id": "e6a31722",
   "metadata": {},
   "source": [
    "# Cleaning of test data"
   ]
  },
  {
   "cell_type": "code",
   "execution_count": 20,
   "id": "f6c6c49f",
   "metadata": {},
   "outputs": [
    {
     "data": {
      "text/html": [
       "<div>\n",
       "<style scoped>\n",
       "    .dataframe tbody tr th:only-of-type {\n",
       "        vertical-align: middle;\n",
       "    }\n",
       "\n",
       "    .dataframe tbody tr th {\n",
       "        vertical-align: top;\n",
       "    }\n",
       "\n",
       "    .dataframe thead th {\n",
       "        text-align: right;\n",
       "    }\n",
       "</style>\n",
       "<table border=\"1\" class=\"dataframe\">\n",
       "  <thead>\n",
       "    <tr style=\"text-align: right;\">\n",
       "      <th></th>\n",
       "      <th>text</th>\n",
       "      <th>label</th>\n",
       "    </tr>\n",
       "  </thead>\n",
       "  <tbody>\n",
       "    <tr>\n",
       "      <th>1995</th>\n",
       "      <td>i just keep feeling like someone is being unki...</td>\n",
       "      <td>anger</td>\n",
       "    </tr>\n",
       "    <tr>\n",
       "      <th>1996</th>\n",
       "      <td>im feeling a little cranky negative after this...</td>\n",
       "      <td>anger</td>\n",
       "    </tr>\n",
       "    <tr>\n",
       "      <th>1997</th>\n",
       "      <td>i feel that i am useful to my people and that ...</td>\n",
       "      <td>joy</td>\n",
       "    </tr>\n",
       "    <tr>\n",
       "      <th>1998</th>\n",
       "      <td>im feeling more comfortable with derby i feel ...</td>\n",
       "      <td>joy</td>\n",
       "    </tr>\n",
       "    <tr>\n",
       "      <th>1999</th>\n",
       "      <td>i feel all weird when i have to meet w people ...</td>\n",
       "      <td>fear</td>\n",
       "    </tr>\n",
       "  </tbody>\n",
       "</table>\n",
       "</div>"
      ],
      "text/plain": [
       "                                                   text  label\n",
       "1995  i just keep feeling like someone is being unki...  anger\n",
       "1996  im feeling a little cranky negative after this...  anger\n",
       "1997  i feel that i am useful to my people and that ...    joy\n",
       "1998  im feeling more comfortable with derby i feel ...    joy\n",
       "1999  i feel all weird when i have to meet w people ...   fear"
      ]
     },
     "execution_count": 20,
     "metadata": {},
     "output_type": "execute_result"
    }
   ],
   "source": [
    "data = pd.read_csv('emotion_detection_text_dataset/test.txt', delimiter=';', header=None, names=['text', 'label'])\n",
    "data.tail()"
   ]
  },
  {
   "cell_type": "code",
   "execution_count": 21,
   "id": "6d045fc1",
   "metadata": {},
   "outputs": [
    {
     "name": "stdout",
     "output_type": "stream",
     "text": [
      "number of duplicate values removed:  0\n"
     ]
    }
   ],
   "source": [
    "# removing duplicate values\n",
    "\n",
    "a = len(data)\n",
    "data = data.drop_duplicates(subset=['text']).reset_index(drop=True)\n",
    "b = len(data)\n",
    "print('number of duplicate values removed: ', a-b)"
   ]
  },
  {
   "cell_type": "code",
   "execution_count": 22,
   "id": "23f07c01",
   "metadata": {},
   "outputs": [
    {
     "name": "stdout",
     "output_type": "stream",
     "text": [
      "number of rows with NaN values removed:  0\n"
     ]
    }
   ],
   "source": [
    "# removing rows with nan values\n",
    "\n",
    "a = len(data)\n",
    "data = data.dropna()\n",
    "data = data.reset_index(drop=True)\n",
    "b = len(data)\n",
    "print('number of rows with NaN values removed: ', a-b)"
   ]
  },
  {
   "cell_type": "code",
   "execution_count": 23,
   "id": "8d37a4a8",
   "metadata": {
    "scrolled": true
   },
   "outputs": [
    {
     "data": {
      "text/plain": [
       "6"
      ]
     },
     "execution_count": 23,
     "metadata": {},
     "output_type": "execute_result"
    }
   ],
   "source": [
    "data.label.nunique()"
   ]
  },
  {
   "cell_type": "code",
   "execution_count": 24,
   "id": "49c4af18",
   "metadata": {
    "scrolled": true
   },
   "outputs": [
    {
     "data": {
      "text/plain": [
       "joy         695\n",
       "sadness     581\n",
       "anger       275\n",
       "fear        224\n",
       "love        159\n",
       "surprise     66\n",
       "Name: label, dtype: int64"
      ]
     },
     "execution_count": 24,
     "metadata": {},
     "output_type": "execute_result"
    }
   ],
   "source": [
    "data.label.value_counts()"
   ]
  },
  {
   "cell_type": "code",
   "execution_count": 25,
   "id": "7fd4f0f6",
   "metadata": {},
   "outputs": [],
   "source": [
    "'''\n",
    "clean_test_data = data.copy()\n",
    "\n",
    "for i in tqdm(range(len(data))):\n",
    "    clean_test_data.loc[i, 'text'] = str(text_cleaning(data.loc[i, 'text']))\n",
    "    \n",
    "clean_test_data.to_csv('emotion_detection_text_dataset/clean_test_data.csv', index=False)\n",
    "    '''\n",
    "\n",
    "clean_test_data = pd.read_csv('emotion_detection_text_dataset/clean_test_data.csv')"
   ]
  },
  {
   "cell_type": "code",
   "execution_count": 26,
   "id": "9b929e07",
   "metadata": {
    "scrolled": true
   },
   "outputs": [
    {
     "data": {
      "text/html": [
       "<div>\n",
       "<style scoped>\n",
       "    .dataframe tbody tr th:only-of-type {\n",
       "        vertical-align: middle;\n",
       "    }\n",
       "\n",
       "    .dataframe tbody tr th {\n",
       "        vertical-align: top;\n",
       "    }\n",
       "\n",
       "    .dataframe thead th {\n",
       "        text-align: right;\n",
       "    }\n",
       "</style>\n",
       "<table border=\"1\" class=\"dataframe\">\n",
       "  <thead>\n",
       "    <tr style=\"text-align: right;\">\n",
       "      <th></th>\n",
       "      <th>text</th>\n",
       "      <th>label</th>\n",
       "    </tr>\n",
       "  </thead>\n",
       "  <tbody>\n",
       "    <tr>\n",
       "      <th>1995</th>\n",
       "      <td>keep feeling like someone unkind wrong think g...</td>\n",
       "      <td>anger</td>\n",
       "    </tr>\n",
       "    <tr>\n",
       "      <th>1996</th>\n",
       "      <td>im feeling little cranky negative doctors appo...</td>\n",
       "      <td>anger</td>\n",
       "    </tr>\n",
       "    <tr>\n",
       "      <th>1997</th>\n",
       "      <td>feel useful people gives great feeling achieve...</td>\n",
       "      <td>joy</td>\n",
       "    </tr>\n",
       "    <tr>\n",
       "      <th>1998</th>\n",
       "      <td>im feeling comfortable derby feel though start...</td>\n",
       "      <td>joy</td>\n",
       "    </tr>\n",
       "    <tr>\n",
       "      <th>1999</th>\n",
       "      <td>feel weird meet w people text like dont talk f...</td>\n",
       "      <td>fear</td>\n",
       "    </tr>\n",
       "  </tbody>\n",
       "</table>\n",
       "</div>"
      ],
      "text/plain": [
       "                                                   text  label\n",
       "1995  keep feeling like someone unkind wrong think g...  anger\n",
       "1996  im feeling little cranky negative doctors appo...  anger\n",
       "1997  feel useful people gives great feeling achieve...    joy\n",
       "1998  im feeling comfortable derby feel though start...    joy\n",
       "1999  feel weird meet w people text like dont talk f...   fear"
      ]
     },
     "execution_count": 26,
     "metadata": {},
     "output_type": "execute_result"
    }
   ],
   "source": [
    "clean_test_data.tail()"
   ]
  },
  {
   "cell_type": "code",
   "execution_count": null,
   "id": "1256c0f7",
   "metadata": {},
   "outputs": [],
   "source": []
  },
  {
   "cell_type": "code",
   "execution_count": null,
   "id": "52a1d49b",
   "metadata": {},
   "outputs": [],
   "source": []
  },
  {
   "cell_type": "markdown",
   "id": "043b640d",
   "metadata": {},
   "source": [
    "# Tokenization of text"
   ]
  },
  {
   "cell_type": "code",
   "execution_count": 27,
   "id": "c142b538",
   "metadata": {},
   "outputs": [],
   "source": [
    "vocab_size = 10000\n",
    "max_length = 20\n",
    "trunc_type = 'post'\n",
    "padding_type = 'post'\n",
    "oov_tok = '<OOV>'"
   ]
  },
  {
   "cell_type": "code",
   "execution_count": 28,
   "id": "e024dc92",
   "metadata": {},
   "outputs": [],
   "source": [
    "tokenizer = Tokenizer(num_words=vocab_size, oov_token=oov_tok)\n",
    "tokenizer.fit_on_texts(clean_train_data.text.to_list())"
   ]
  },
  {
   "cell_type": "code",
   "execution_count": 29,
   "id": "2d23ff42",
   "metadata": {},
   "outputs": [],
   "source": [
    "# tokenizer.word_index.items()"
   ]
  },
  {
   "cell_type": "code",
   "execution_count": 30,
   "id": "799b728e",
   "metadata": {},
   "outputs": [
    {
     "data": {
      "text/plain": [
       "15065"
      ]
     },
     "execution_count": 30,
     "metadata": {},
     "output_type": "execute_result"
    }
   ],
   "source": [
    "len(tokenizer.word_index.items())"
   ]
  },
  {
   "cell_type": "code",
   "execution_count": 31,
   "id": "5bfc71aa",
   "metadata": {},
   "outputs": [
    {
     "data": {
      "text/plain": [
       "'devestated would grave disservice feelings never recall quite heartbroken life'"
      ]
     },
     "execution_count": 31,
     "metadata": {},
     "output_type": "execute_result"
    }
   ],
   "source": [
    "clean_train_data.text[574]"
   ]
  },
  {
   "cell_type": "code",
   "execution_count": 33,
   "id": "344ddd5a",
   "metadata": {},
   "outputs": [
    {
     "data": {
      "text/plain": [
       "[7526, 12, 7527, 4125, 39, 54, 1785, 62, 505, 19]"
      ]
     },
     "execution_count": 33,
     "metadata": {},
     "output_type": "execute_result"
    }
   ],
   "source": [
    "data_sequences_train = tokenizer.texts_to_sequences(clean_train_data.text.to_list())\n",
    "data_sequences_train[574]"
   ]
  },
  {
   "cell_type": "code",
   "execution_count": 36,
   "id": "ef6cde7b",
   "metadata": {
    "scrolled": false
   },
   "outputs": [
    {
     "data": {
      "text/plain": [
       "array([7526,   12, 7527, 4125,   39,   54, 1785,   62,  505,   19,    0,\n",
       "          0,    0,    0,    0,    0,    0,    0,    0,    0])"
      ]
     },
     "execution_count": 36,
     "metadata": {},
     "output_type": "execute_result"
    }
   ],
   "source": [
    "data_padded_train = pad_sequences(data_sequences_train, maxlen=max_length, padding=padding_type, truncating=trunc_type)\n",
    "data_padded_train[574]"
   ]
  },
  {
   "cell_type": "code",
   "execution_count": null,
   "id": "fef0127f",
   "metadata": {},
   "outputs": [],
   "source": []
  },
  {
   "cell_type": "code",
   "execution_count": 37,
   "id": "b1528bb2",
   "metadata": {},
   "outputs": [],
   "source": [
    "data_sequences_val = tokenizer.texts_to_sequences(clean_val_data.text.to_list())\n",
    "data_padded_val = pad_sequences(data_sequences_val, maxlen=max_length, padding=padding_type, truncating=trunc_type)\n",
    "\n",
    "data_sequences_test = tokenizer.texts_to_sequences(clean_test_data.text.to_list())\n",
    "data_padded_test = pad_sequences(data_sequences_test, maxlen=max_length, padding=padding_type, truncating=trunc_type)\n"
   ]
  },
  {
   "cell_type": "code",
   "execution_count": null,
   "id": "ef56efbf",
   "metadata": {},
   "outputs": [],
   "source": []
  },
  {
   "cell_type": "code",
   "execution_count": null,
   "id": "0b6d1526",
   "metadata": {},
   "outputs": [],
   "source": []
  },
  {
   "cell_type": "code",
   "execution_count": null,
   "id": "b1ddab86",
   "metadata": {},
   "outputs": [],
   "source": []
  },
  {
   "cell_type": "code",
   "execution_count": null,
   "id": "61bb1523",
   "metadata": {},
   "outputs": [],
   "source": []
  },
  {
   "cell_type": "markdown",
   "id": "503299f5",
   "metadata": {},
   "source": [
    "# Tokenization of labels"
   ]
  },
  {
   "cell_type": "code",
   "execution_count": 60,
   "id": "73f87135",
   "metadata": {
    "scrolled": true
   },
   "outputs": [
    {
     "data": {
      "text/plain": [
       "array([[0, 1, 0, 0, 0, 0],\n",
       "       [1, 0, 0, 0, 0, 0],\n",
       "       [0, 1, 0, 0, 0, 0],\n",
       "       ...,\n",
       "       [0, 0, 0, 0, 1, 0],\n",
       "       [0, 1, 0, 0, 0, 0],\n",
       "       [0, 0, 1, 0, 0, 0]])"
      ]
     },
     "execution_count": 60,
     "metadata": {},
     "output_type": "execute_result"
    }
   ],
   "source": [
    "label_maping = {'joy':0,\n",
    "                'sadness':1,\n",
    "                'anger':2,\n",
    "                'fear':3,\n",
    "                'love':4,\n",
    "                'surprise':5}\n",
    "y_train_data = list()\n",
    "for i in range(len(clean_train_data)):\n",
    "    y_train_data.append(np.eye(6)[label_maping[clean_train_data.label[i]]])\n",
    "y_train_data = np.array(y_train_data, dtype=int)\n",
    "\n",
    "y_val_data = list()\n",
    "for i in range(len(clean_val_data)):\n",
    "    y_val_data.append(np.eye(6)[label_maping[clean_val_data.label[i]]])\n",
    "y_val_data = np.array(y_val_data, dtype=int)\n",
    "\n",
    "y_test_data = list()\n",
    "for i in range(len(clean_test_data)):\n",
    "    y_test_data.append(np.eye(6)[label_maping[clean_test_data.label[i]]])\n",
    "y_test_data = np.array(y_test_data, dtype=int)\n",
    "\n",
    "\n",
    "y_train_data"
   ]
  },
  {
   "cell_type": "markdown",
   "id": "bd1f8df9",
   "metadata": {},
   "source": [
    "# Mapping text with glove word embeddings"
   ]
  },
  {
   "cell_type": "code",
   "execution_count": 39,
   "id": "e09eff8f",
   "metadata": {},
   "outputs": [],
   "source": [
    "embeddings = {}\n",
    "glove = open('glove.6B.200d.txt', 'r', encoding = 'utf-8').read()"
   ]
  },
  {
   "cell_type": "code",
   "execution_count": 40,
   "id": "5fb052f5",
   "metadata": {},
   "outputs": [
    {
     "name": "stderr",
     "output_type": "stream",
     "text": [
      "100%|██████████████████████████████████████████████████████████████████████████████████████████████████████████████| 400001/400001 [00:19<00:00, 20278.78it/s]\n"
     ]
    }
   ],
   "source": [
    "for line in tqdm(glove.split(\"\\n\")):\n",
    "    values = line.split(\" \")\n",
    "    word = values[0]\n",
    "    indices = np.asarray(values[1: ], dtype='float32')\n",
    "    embeddings[word] = indices"
   ]
  },
  {
   "cell_type": "code",
   "execution_count": 41,
   "id": "789535df",
   "metadata": {},
   "outputs": [
    {
     "data": {
      "text/plain": [
       "(10001, 200)"
      ]
     },
     "execution_count": 41,
     "metadata": {},
     "output_type": "execute_result"
    }
   ],
   "source": [
    "embedding_dim = 200\n",
    "emb_matrix = np.zeros((vocab_size+1, embedding_dim)) \n",
    "for word, i in tokenizer.word_index.items():\n",
    "    if i<vocab_size+1:\n",
    "        embedding_vec = embeddings.get(word) \n",
    "        if embedding_vec is not None: \n",
    "            emb_matrix[i] = embedding_vec \n",
    "        \n",
    "emb_matrix.shape"
   ]
  },
  {
   "cell_type": "code",
   "execution_count": 42,
   "id": "4f919861",
   "metadata": {
    "scrolled": true
   },
   "outputs": [],
   "source": [
    "# emb_matrix[2]"
   ]
  },
  {
   "cell_type": "code",
   "execution_count": null,
   "id": "653c153e",
   "metadata": {},
   "outputs": [],
   "source": []
  },
  {
   "cell_type": "code",
   "execution_count": null,
   "id": "d8da1446",
   "metadata": {},
   "outputs": [],
   "source": []
  },
  {
   "cell_type": "markdown",
   "id": "62cb7629",
   "metadata": {},
   "source": [
    "# Splitting of dataset"
   ]
  },
  {
   "cell_type": "code",
   "execution_count": 62,
   "id": "d77d4ffb",
   "metadata": {},
   "outputs": [
    {
     "name": "stdout",
     "output_type": "stream",
     "text": [
      "(15969, 20) (15969, 6)\n",
      "(1998, 20) (1998, 6)\n",
      "(2000, 20) (2000, 6)\n"
     ]
    }
   ],
   "source": [
    "X_train = data_padded_train\n",
    "y_train = y_train_data\n",
    "\n",
    "X_val =  data_padded_val\n",
    "y_val = y_val_data\n",
    "\n",
    "X_test = data_padded_test\n",
    "y_test = y_test_data\n",
    "\n",
    "print(X_train.shape, y_train_data.shape)\n",
    "print(X_val.shape, y_val_data.shape)\n",
    "print(X_test.shape, y_test_data.shape)"
   ]
  },
  {
   "cell_type": "code",
   "execution_count": null,
   "id": "774ee1d6",
   "metadata": {},
   "outputs": [],
   "source": []
  },
  {
   "cell_type": "code",
   "execution_count": null,
   "id": "ab96b1d0",
   "metadata": {},
   "outputs": [],
   "source": []
  },
  {
   "cell_type": "markdown",
   "id": "f2689951",
   "metadata": {},
   "source": [
    "# Model training"
   ]
  },
  {
   "cell_type": "code",
   "execution_count": 56,
   "id": "716274f6",
   "metadata": {},
   "outputs": [
    {
     "name": "stdout",
     "output_type": "stream",
     "text": [
      "Model: \"sequential_4\"\n",
      "_________________________________________________________________\n",
      "Layer (type)                 Output Shape              Param #   \n",
      "=================================================================\n",
      "embedding_4 (Embedding)      (None, 20, 200)           2000200   \n",
      "_________________________________________________________________\n",
      "lstm_4 (LSTM)                (None, 128)               168448    \n",
      "_________________________________________________________________\n",
      "dropout_8 (Dropout)          (None, 128)               0         \n",
      "_________________________________________________________________\n",
      "dense_8 (Dense)              (None, 64)                8256      \n",
      "_________________________________________________________________\n",
      "dropout_9 (Dropout)          (None, 64)                0         \n",
      "_________________________________________________________________\n",
      "dense_9 (Dense)              (None, 6)                 390       \n",
      "=================================================================\n",
      "Total params: 2,177,294\n",
      "Trainable params: 177,094\n",
      "Non-trainable params: 2,000,200\n",
      "_________________________________________________________________\n"
     ]
    }
   ],
   "source": [
    "model = Sequential([\n",
    "    Embedding(vocab_size+1, embedding_dim, input_length=max_length, weights= [emb_matrix], trainable=False),\n",
    "    LSTM(128, activation='tanh'),\n",
    "    Dropout(0.4),\n",
    "    Dense(64, activation='relu'),\n",
    "    Dropout(0.4),\n",
    "    Dense(6, activation='softmax')\n",
    "    ])\n",
    "\n",
    "\n",
    "optimizer = Adam(learning_rate=0.0001)\n",
    "\n",
    "model.compile(loss='categorical_crossentropy', optimizer=optimizer, metrics=['accuracy'])\n",
    "model.summary()"
   ]
  },
  {
   "cell_type": "code",
   "execution_count": 57,
   "id": "554caef6",
   "metadata": {},
   "outputs": [
    {
     "name": "stdout",
     "output_type": "stream",
     "text": [
      "Train on 15969 samples, validate on 1998 samples\n",
      "Epoch 1/30\n",
      "15969/15969 [==============================] - 6s 405us/sample - loss: 1.5002 - accuracy: 0.4163 - val_loss: 1.2052 - val_accuracy: 0.5470\n",
      "Epoch 2/30\n",
      "15969/15969 [==============================] - 5s 318us/sample - loss: 1.1751 - accuracy: 0.5640 - val_loss: 1.0780 - val_accuracy: 0.6001\n",
      "Epoch 3/30\n",
      "15969/15969 [==============================] - 5s 321us/sample - loss: 1.0412 - accuracy: 0.6114 - val_loss: 0.9918 - val_accuracy: 0.6101\n",
      "Epoch 4/30\n",
      "15969/15969 [==============================] - 5s 321us/sample - loss: 0.9233 - accuracy: 0.6506 - val_loss: 0.8228 - val_accuracy: 0.6842\n",
      "Epoch 5/30\n",
      "15969/15969 [==============================] - 5s 333us/sample - loss: 0.8277 - accuracy: 0.6932 - val_loss: 0.7615 - val_accuracy: 0.7227\n",
      "Epoch 6/30\n",
      "15969/15969 [==============================] - 5s 336us/sample - loss: 0.7262 - accuracy: 0.7391 - val_loss: 0.7027 - val_accuracy: 0.7372\n",
      "Epoch 7/30\n",
      "15969/15969 [==============================] - 5s 336us/sample - loss: 0.6484 - accuracy: 0.7731 - val_loss: 0.6042 - val_accuracy: 0.7833\n",
      "Epoch 8/30\n",
      "15969/15969 [==============================] - 5s 336us/sample - loss: 0.5784 - accuracy: 0.8017 - val_loss: 0.5625 - val_accuracy: 0.7948\n",
      "Epoch 9/30\n",
      "15969/15969 [==============================] - 5s 335us/sample - loss: 0.5212 - accuracy: 0.8192 - val_loss: 0.5323 - val_accuracy: 0.8078\n",
      "Epoch 10/30\n",
      "15969/15969 [==============================] - 5s 340us/sample - loss: 0.4672 - accuracy: 0.8404 - val_loss: 0.4926 - val_accuracy: 0.8328\n",
      "Epoch 11/30\n",
      "15969/15969 [==============================] - 5s 340us/sample - loss: 0.4304 - accuracy: 0.8508 - val_loss: 0.5515 - val_accuracy: 0.8148\n",
      "Epoch 12/30\n",
      "15969/15969 [==============================] - 5s 343us/sample - loss: 0.3880 - accuracy: 0.8672 - val_loss: 0.4269 - val_accuracy: 0.8519\n",
      "Epoch 13/30\n",
      "15969/15969 [==============================] - 5s 342us/sample - loss: 0.3720 - accuracy: 0.8721 - val_loss: 0.5041 - val_accuracy: 0.8383\n",
      "Epoch 14/30\n",
      "15969/15969 [==============================] - 5s 339us/sample - loss: 0.3442 - accuracy: 0.8848 - val_loss: 0.4600 - val_accuracy: 0.8388\n",
      "Epoch 15/30\n",
      "15969/15969 [==============================] - 5s 338us/sample - loss: 0.3177 - accuracy: 0.8926 - val_loss: 0.3930 - val_accuracy: 0.8629\n",
      "Epoch 16/30\n",
      "15969/15969 [==============================] - 5s 344us/sample - loss: 0.2919 - accuracy: 0.8980 - val_loss: 0.3983 - val_accuracy: 0.8584\n",
      "Epoch 17/30\n",
      "15969/15969 [==============================] - 5s 339us/sample - loss: 0.2691 - accuracy: 0.9058 - val_loss: 0.3906 - val_accuracy: 0.8739\n",
      "Epoch 18/30\n",
      "15969/15969 [==============================] - 6s 346us/sample - loss: 0.2536 - accuracy: 0.9111 - val_loss: 0.4257 - val_accuracy: 0.8599\n",
      "Epoch 19/30\n",
      "15969/15969 [==============================] - 5s 337us/sample - loss: 0.2418 - accuracy: 0.9146 - val_loss: 0.3955 - val_accuracy: 0.8739\n",
      "Epoch 20/30\n",
      "15969/15969 [==============================] - 5s 337us/sample - loss: 0.2259 - accuracy: 0.9215 - val_loss: 0.3763 - val_accuracy: 0.8694\n",
      "Epoch 21/30\n",
      "15969/15969 [==============================] - 6s 344us/sample - loss: 0.2059 - accuracy: 0.9272 - val_loss: 0.4190 - val_accuracy: 0.8749\n",
      "Epoch 22/30\n",
      "15969/15969 [==============================] - 5s 337us/sample - loss: 0.2088 - accuracy: 0.9277 - val_loss: 0.3997 - val_accuracy: 0.8669\n",
      "Epoch 23/30\n",
      "15969/15969 [==============================] - 5s 340us/sample - loss: 0.1889 - accuracy: 0.9350 - val_loss: 0.3618 - val_accuracy: 0.8829\n",
      "Epoch 24/30\n",
      "15969/15969 [==============================] - 5s 338us/sample - loss: 0.1833 - accuracy: 0.9351 - val_loss: 0.4151 - val_accuracy: 0.8824\n",
      "Epoch 25/30\n",
      "15969/15969 [==============================] - 5s 341us/sample - loss: 0.1694 - accuracy: 0.9386 - val_loss: 0.3577 - val_accuracy: 0.8834\n",
      "Epoch 26/30\n",
      "15969/15969 [==============================] - 5s 342us/sample - loss: 0.1624 - accuracy: 0.9436 - val_loss: 0.4359 - val_accuracy: 0.8774\n",
      "Epoch 27/30\n",
      "15969/15969 [==============================] - 5s 339us/sample - loss: 0.1596 - accuracy: 0.9441 - val_loss: 0.4116 - val_accuracy: 0.8824\n",
      "Epoch 28/30\n",
      "15969/15969 [==============================] - 5s 343us/sample - loss: 0.1485 - accuracy: 0.9490 - val_loss: 0.4873 - val_accuracy: 0.8739\n",
      "Epoch 29/30\n",
      "15969/15969 [==============================] - 6s 347us/sample - loss: 0.1511 - accuracy: 0.9491 - val_loss: 0.3767 - val_accuracy: 0.8874\n",
      "Epoch 30/30\n",
      "15969/15969 [==============================] - 6s 345us/sample - loss: 0.1362 - accuracy: 0.9525 - val_loss: 0.4067 - val_accuracy: 0.8824\n"
     ]
    }
   ],
   "source": [
    "history = model.fit(X_train, y_train, validation_data=([X_val, y_val]), epochs = 30, batch_size=16)"
   ]
  },
  {
   "cell_type": "code",
   "execution_count": 58,
   "id": "ee089189",
   "metadata": {},
   "outputs": [
    {
     "data": {
      "image/png": "[encoded data removed]",
      "text/plain": [
       "<Figure size 432x288 with 1 Axes>"
      ]
     },
     "metadata": {
      "needs_background": "light"
     },
     "output_type": "display_data"
    },
    {
     "data": {
      "image/png": "[encoded data removed]",
      "text/plain": [
       "<Figure size 432x288 with 1 Axes>"
      ]
     },
     "metadata": {
      "needs_background": "light"
     },
     "output_type": "display_data"
    }
   ],
   "source": [
    "# summarize history for accuracy\n",
    "plt.plot(history.history['accuracy'])\n",
    "plt.plot(history.history['val_accuracy'])\n",
    "plt.title('model accuracy')\n",
    "plt.ylabel('accuracy')\n",
    "plt.xlabel('epoch')\n",
    "plt.legend(['train', 'validation'], loc='upper left')\n",
    "plt.show()\n",
    "# summarize history for loss\n",
    "plt.plot(history.history['loss'])\n",
    "plt.plot(history.history['val_loss'])\n",
    "plt.title('model loss')\n",
    "plt.ylabel('loss')\n",
    "plt.xlabel('epoch')\n",
    "\n",
    "plt.legend(['train', 'validation'], loc='upper left')\n",
    "plt.show()"
   ]
  },
  {
   "cell_type": "code",
   "execution_count": 63,
   "id": "ea497a32",
   "metadata": {},
   "outputs": [
    {
     "name": "stdout",
     "output_type": "stream",
     "text": [
      "2000/2000 [==============================] - 0s 198us/sample - loss: 0.3873 - accuracy: 0.8890\n",
      "Test Loss: 0.38734855680167674\n",
      "Test Accuracy: 0.889\n"
     ]
    }
   ],
   "source": [
    "score = model.evaluate(X_test, y_test, verbose=1)\n",
    "print(\"Test Loss:\", score[0])\n",
    "print(\"Test Accuracy:\", score[1])"
   ]
  },
  {
   "cell_type": "code",
   "execution_count": 71,
   "id": "64b9a297",
   "metadata": {},
   "outputs": [],
   "source": [
    "predictions = model.predict(X_test)"
   ]
  },
  {
   "cell_type": "code",
   "execution_count": 75,
   "id": "c0a6fb33",
   "metadata": {},
   "outputs": [
    {
     "name": "stdout",
     "output_type": "stream",
     "text": [
      "['love fact look best feel terrific eat right constantly exercise <OOV> <OOV> <OOV> <OOV> <OOV> <OOV> <OOV> <OOV> <OOV> <OOV>']\n"
     ]
    }
   ],
   "source": [
    "i = 458\n",
    "b = list([X_test[i]])\n",
    "print(tokenizer.sequences_to_texts(b))"
   ]
  },
  {
   "cell_type": "code",
   "execution_count": 76,
   "id": "cfa8e047",
   "metadata": {},
   "outputs": [
    {
     "name": "stdout",
     "output_type": "stream",
     "text": [
      "joy \n",
      "\n",
      "joy :  99.99792575836182 %\n",
      "sadness :  0.001034569777402794 %\n",
      "love :  0.0010046931492979638 %\n",
      "surprise :  3.154833905227861e-05 %\n",
      "anger :  2.756188388630676e-07 %\n"
     ]
    }
   ],
   "source": [
    "inv_map = {v: k for k, v in label_maping.items()}\n",
    "\n",
    "myList = predictions[i]\n",
    "a = np.flipud(np.array([i for i in sorted(enumerate(myList), key=lambda x:x[1])]))\n",
    "print(inv_map[np.argmax(y_test[i])]  , '\\n')\n",
    "print(inv_map[a[0, 0]], ': ', a[0, 1]*100, '%')\n",
    "print(inv_map[a[1, 0]], ': ', a[1, 1]*100, '%')\n",
    "print(inv_map[a[2, 0]], ': ', a[2, 1]*100, '%')\n",
    "print(inv_map[a[3, 0]], ': ', a[3, 1]*100, '%')\n",
    "print(inv_map[a[4, 0]], ': ', a[4, 1]*100, '%')"
   ]
  },
  {
   "cell_type": "code",
   "execution_count": null,
   "id": "45578699",
   "metadata": {},
   "outputs": [],
   "source": []
  },
  {
   "cell_type": "markdown",
   "id": "9e43bfff",
   "metadata": {},
   "source": [
    "# Prediction on custom inputs"
   ]
  },
  {
   "cell_type": "code",
   "execution_count": 104,
   "id": "02cca31f",
   "metadata": {},
   "outputs": [
    {
     "data": {
      "text/plain": [
       "array([[  1,   1,   1, 163,   1, 258,   1,   1,   0,   0,   0,   0,   0,\n",
       "          0,   0,   0,   0,   0,   0,   0]])"
      ]
     },
     "execution_count": 104,
     "metadata": {},
     "output_type": "execute_result"
    }
   ],
   "source": [
    "t = 'i am very excited to show you this'\n",
    "data_seq = tokenizer.texts_to_sequences([t])\n",
    "data_pad = pad_sequences(data_seq, maxlen=max_length, padding=padding_type, truncating=trunc_type)\n",
    "\n",
    "data_pad"
   ]
  },
  {
   "cell_type": "code",
   "execution_count": 105,
   "id": "6cb2e8e2",
   "metadata": {},
   "outputs": [
    {
     "name": "stdout",
     "output_type": "stream",
     "text": [
      "joy :  98.40143322944641 %\n",
      "surprise :  0.6930083502084017 %\n",
      "sadness :  0.5070239771157503 %\n",
      "love :  0.3638471942394972 %\n",
      "fear :  0.017479760572314262 %\n"
     ]
    }
   ],
   "source": [
    "t_prediction = model.predict(data_pad)\n",
    "a = np.flipud(np.array([i for i in sorted(enumerate(t_prediction[0]), key=lambda x:x[1])]))\n",
    "print(inv_map[a[0, 0]], ': ', a[0, 1]*100, '%')\n",
    "print(inv_map[a[1, 0]], ': ', a[1, 1]*100, '%')\n",
    "print(inv_map[a[2, 0]], ': ', a[2, 1]*100, '%')\n",
    "print(inv_map[a[3, 0]], ': ', a[3, 1]*100, '%')\n",
    "print(inv_map[a[4, 0]], ': ', a[4, 1]*100, '%')"
   ]
  },
  {
   "cell_type": "code",
   "execution_count": null,
   "id": "42d425d1",
   "metadata": {},
   "outputs": [],
   "source": []
  },
  {
   "cell_type": "code",
   "execution_count": null,
   "id": "9e41c7d6",
   "metadata": {},
   "outputs": [],
   "source": []
  },
  {
   "cell_type": "code",
   "execution_count": null,
   "id": "cc8a3758",
   "metadata": {},
   "outputs": [],
   "source": []
  },
  {
   "cell_type": "code",
   "execution_count": null,
   "id": "eeddaa9e",
   "metadata": {},
   "outputs": [],
   "source": []
  },
  {
   "cell_type": "code",
   "execution_count": null,
   "id": "a3ff07c2",
   "metadata": {},
   "outputs": [],
   "source": []
  },
  {
   "cell_type": "code",
   "execution_count": null,
   "id": "3b89c7c2",
   "metadata": {},
   "outputs": [],
   "source": []
  },
  {
   "cell_type": "code",
   "execution_count": null,
   "id": "eeb7dcaa",
   "metadata": {},
   "outputs": [],
   "source": []
  },
  {
   "cell_type": "code",
   "execution_count": null,
   "id": "0d98b53d",
   "metadata": {},
   "outputs": [],
   "source": []
  }
 ],
 "metadata": {
  "kernelspec": {
   "display_name": "Python 3",
   "language": "python",
   "name": "python3"
  },
  "language_info": {
   "codemirror_mode": {
    "name": "ipython",
    "version": 3
   },
   "file_extension": ".py",
   "mimetype": "text/x-python",
   "name": "python",
   "nbconvert_exporter": "python",
   "pygments_lexer": "ipython3",
   "version": "3.7.10"
  }
 },
 "nbformat": 4,
 "nbformat_minor": 5
}
